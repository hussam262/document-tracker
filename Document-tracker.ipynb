{
 "cells": [
  {
   "cell_type": "markdown",
   "id": "cf043af5",
   "metadata": {},
   "source": [
    "<H2> Importing essential libraries.</H2>"
   ]
  },
  {
   "cell_type": "code",
   "execution_count": 142,
   "id": "04b5ac47",
   "metadata": {},
   "outputs": [
    {
     "name": "stdout",
     "output_type": "stream",
     "text": [
      "Requirement already satisfied: pycountry-convert in c:\\users\\kirk\\anaconda3\\envs\\f21 dl\\lib\\site-packages (0.7.2)\n",
      "Requirement already satisfied: pytest-mock>=1.6.3 in c:\\users\\kirk\\anaconda3\\envs\\f21 dl\\lib\\site-packages (from pycountry-convert) (3.10.0)\n",
      "Requirement already satisfied: pycountry>=16.11.27.1 in c:\\users\\kirk\\anaconda3\\envs\\f21 dl\\lib\\site-packages (from pycountry-convert) (22.3.5)\n",
      "Requirement already satisfied: repoze.lru>=0.7 in c:\\users\\kirk\\anaconda3\\envs\\f21 dl\\lib\\site-packages (from pycountry-convert) (0.7)\n",
      "Requirement already satisfied: pytest>=3.4.0 in c:\\users\\kirk\\anaconda3\\envs\\f21 dl\\lib\\site-packages (from pycountry-convert) (7.2.0)\n",
      "Requirement already satisfied: wheel>=0.30.0 in c:\\users\\kirk\\anaconda3\\envs\\f21 dl\\lib\\site-packages (from pycountry-convert) (0.37.1)\n",
      "Requirement already satisfied: pprintpp>=0.3.0 in c:\\users\\kirk\\anaconda3\\envs\\f21 dl\\lib\\site-packages (from pycountry-convert) (0.4.0)\n",
      "Requirement already satisfied: pytest-cov>=2.5.1 in c:\\users\\kirk\\anaconda3\\envs\\f21 dl\\lib\\site-packages (from pycountry-convert) (4.0.0)\n",
      "Requirement already satisfied: setuptools in c:\\users\\kirk\\anaconda3\\envs\\f21 dl\\lib\\site-packages (from pycountry>=16.11.27.1->pycountry-convert) (63.4.1)\n",
      "Requirement already satisfied: colorama in c:\\users\\kirk\\anaconda3\\envs\\f21 dl\\lib\\site-packages (from pytest>=3.4.0->pycountry-convert) (0.4.5)\n",
      "Requirement already satisfied: attrs>=19.2.0 in c:\\users\\kirk\\anaconda3\\envs\\f21 dl\\lib\\site-packages (from pytest>=3.4.0->pycountry-convert) (21.4.0)\n",
      "Requirement already satisfied: exceptiongroup>=1.0.0rc8 in c:\\users\\kirk\\anaconda3\\envs\\f21 dl\\lib\\site-packages (from pytest>=3.4.0->pycountry-convert) (1.0.4)\n",
      "Requirement already satisfied: packaging in c:\\users\\kirk\\anaconda3\\envs\\f21 dl\\lib\\site-packages (from pytest>=3.4.0->pycountry-convert) (21.3)\n",
      "Requirement already satisfied: pluggy<2.0,>=0.12 in c:\\users\\kirk\\anaconda3\\envs\\f21 dl\\lib\\site-packages (from pytest>=3.4.0->pycountry-convert) (1.0.0)\n",
      "Requirement already satisfied: iniconfig in c:\\users\\kirk\\anaconda3\\envs\\f21 dl\\lib\\site-packages (from pytest>=3.4.0->pycountry-convert) (1.1.1)\n",
      "Requirement already satisfied: tomli>=1.0.0 in c:\\users\\kirk\\anaconda3\\envs\\f21 dl\\lib\\site-packages (from pytest>=3.4.0->pycountry-convert) (2.0.1)\n",
      "Requirement already satisfied: coverage[toml]>=5.2.1 in c:\\users\\kirk\\anaconda3\\envs\\f21 dl\\lib\\site-packages (from pytest-cov>=2.5.1->pycountry-convert) (6.5.0)\n",
      "Requirement already satisfied: pyparsing!=3.0.5,>=2.0.2 in c:\\users\\kirk\\anaconda3\\envs\\f21 dl\\lib\\site-packages (from packaging->pytest>=3.4.0->pycountry-convert) (3.0.9)\n"
     ]
    }
   ],
   "source": [
    "#Importing important libraries\n",
    "import pandas as pd\n",
    "import json\n",
    "import io\n",
    "import collections\n",
    "import matplotlib\n",
    "import os\n",
    "os.environ[\"PATH\"] += os.pathsep + 'C:/Program Files/Graphviz/bin'\n",
    "!pip install pycountry-convert\n",
    "import matplotlib.pyplot as plt\n",
    "import pycountry_convert as pc\n",
    "from collections import Counter\n",
    "from networkx.drawing import nx_pydot\n",
    "from graphviz import Source\n",
    "import networkx as nx\n",
    "import pydot\n",
    "import graphviz\n",
    "import operator\n",
    "from tkinter import *\n",
    "from tkinter import ttk\n",
    "from IPython.display import Image\n",
    "import pydotplus\n",
    "import ctypes"
   ]
  },
  {
   "cell_type": "markdown",
   "id": "4444fbc7",
   "metadata": {},
   "source": [
    "<h2>Reading User Desired Json File.</h2>"
   ]
  },
  {
   "cell_type": "code",
   "execution_count": 143,
   "id": "48e637f1",
   "metadata": {},
   "outputs": [
    {
     "name": "stdout",
     "output_type": "stream",
     "text": [
      "Enter file name, for eg. sample_small.json : sample_small.json\n"
     ]
    }
   ],
   "source": [
    "#open file containing the data\n",
    "filename=input(\"Enter file name, for eg. sample_small.json : \")\n",
    "f=open(filename,'r',encoding='utf-8')\n",
    "data = [json.loads(line) for line in f]"
   ]
  },
  {
   "cell_type": "code",
   "execution_count": 144,
   "id": "2b9cba1b",
   "metadata": {},
   "outputs": [
    {
     "data": {
      "text/plain": [
       "''"
      ]
     },
     "execution_count": 144,
     "metadata": {},
     "output_type": "execute_result"
    }
   ],
   "source": [
    "#Create an instance of Tkinter frame\n",
    "ctypes.windll.shcore.SetProcessDpiAwareness(1)\n",
    "win= Tk()\n",
    "G = nx.MultiDiGraph()\n",
    "#Set the geometry of Tkinter frame\n",
    "win.geometry(\"2000x700\")"
   ]
  },
  {
   "cell_type": "code",
   "execution_count": 145,
   "id": "8fc36fe9",
   "metadata": {},
   "outputs": [],
   "source": [
    "dataFrame=data.copy()\n",
    "frequency=[]\n",
    "cont= {}"
   ]
  },
  {
   "cell_type": "code",
   "execution_count": 146,
   "id": "ee6aa0a5",
   "metadata": {},
   "outputs": [],
   "source": [
    "#function that plots graph\n",
    "def graph_freq(arr):\n",
    "    plt.Figure(figsize=(15,8),dpi=100)\n",
    "    plt.bar(range(len(arr.values())), arr.values(), align='center')\n",
    "    plt.xticks(range(len(arr.keys())), arr.keys(), size='small', rotation=90)\n",
    "    plt.style.use('ggplot')\n",
    "    plt.show()"
   ]
  },
  {
   "cell_type": "markdown",
   "id": "0177eb6e",
   "metadata": {},
   "source": [
    "<h1>Question 2a, Views by Country </h1>"
   ]
  },
  {
   "cell_type": "code",
   "execution_count": 147,
   "id": "1530916e",
   "metadata": {},
   "outputs": [],
   "source": [
    "#function to draw a histogram of countries of visitors\n",
    "def search(uid,value=0):\n",
    "    str =[]\n",
    "    for i in range(len(data)):\n",
    "        if(data[i].get(\"subject_doc_id\")==uid):\n",
    "            str.append(data[i][\"visitor_country\"])\n",
    "        frequency = collections.Counter(str)\n",
    "\n",
    "    \n",
    "\n",
    "    if (value ==0):\n",
    "        graph_freq(frequency)\n",
    "    \n",
    "    return frequency"
   ]
  },
  {
   "cell_type": "markdown",
   "id": "804cc1fe",
   "metadata": {},
   "source": [
    "<h1>Question 2b, Views by Continent </h1>"
   ]
  },
  {
   "cell_type": "code",
   "execution_count": 148,
   "id": "bd7ca70e",
   "metadata": {},
   "outputs": [],
   "source": [
    "#function to draw a histogram of continents of visitors\n",
    "def continent(uid):\n",
    "    cont={}\n",
    "    freq=dict(search(uid,1))\n",
    "    for key, value in freq.items() :\n",
    "        continent_name = pc.country_alpha2_to_continent_code(key)\n",
    "        cont[continent_name]=value\n",
    "    graph_freq(cont)"
   ]
  },
  {
   "cell_type": "markdown",
   "id": "316916f8",
   "metadata": {},
   "source": [
    "<h6> function for Question 3"
   ]
  },
  {
   "cell_type": "code",
   "execution_count": 149,
   "id": "cf492a6e",
   "metadata": {},
   "outputs": [],
   "source": [
    "def getData(key,n):\n",
    "    #instance variables\n",
    "    datas=[]\n",
    "    dataActual=''\n",
    "    res=''\n",
    "    counts=[]\n",
    "    dataFrame=data.copy()\n",
    "    \n",
    "    #adding unique datas in a list\n",
    "    for i in range(len(dataFrame)):\n",
    "        try:\n",
    "            dataActual=dataFrame[i][key]\n",
    "            if n==1:\n",
    "                dataActual=dataActual[0:dataActual.find(\"/\")]\n",
    "            res=dataActual in datas\n",
    "            if res==False:\n",
    "                datas.append(dataActual)\n",
    "        except KeyError:\n",
    "            continue\n",
    "    #initialising counts list\n",
    "    for i in range(len(datas)):\n",
    "        counts.append(0)\n",
    "    \n",
    "    #adding counts to the datas\n",
    "    for i in range(len(dataFrame)):\n",
    "        try:\n",
    "            dataActual=dataFrame[i][key]\n",
    "            if n==1:\n",
    "                dataActual=dataActual[0:dataActual.find(\"/\")]\n",
    "            for j in range(len(datas)):\n",
    "                if datas[j]==dataActual:\n",
    "                    counts[j]=counts[j]+1\n",
    "        except KeyError:\n",
    "            continue\n",
    "    return datas,counts"
   ]
  },
  {
   "cell_type": "markdown",
   "id": "97d0fc83",
   "metadata": {},
   "source": [
    "<h1> Question 3a, Views by Browser (using full path names)</h1>"
   ]
  },
  {
   "cell_type": "code",
   "execution_count": 150,
   "id": "408e5299",
   "metadata": {},
   "outputs": [],
   "source": [
    "#histogram of browsers used and their count(frequency), \n",
    "#where keys(values on x-axis) are full path names of 'visitor_useragent'\n",
    "#NOT SHOWN IN GUI, as keys are not readable due to massive length and it is commented for better performace uncomment to test\n",
    "\n",
    "#gets browsers and their respective counts from getData() function\n",
    "#browsers,counts=getData('visitor_useragent',0)\n",
    "#plt.bar(list(browsers), counts, color='g')\n",
    "#plt.show()"
   ]
  },
  {
   "cell_type": "markdown",
   "id": "96b713c9",
   "metadata": {},
   "source": [
    "<h1>Question 3b, Views by Browser (using only browser names)"
   ]
  },
  {
   "cell_type": "code",
   "execution_count": 151,
   "id": "b0844323",
   "metadata": {},
   "outputs": [],
   "source": [
    "#function to draw a histogram of browsers used and their count (freuency), \n",
    "#where keys(values on x-axis) are only browser names eg Mozilla\n",
    "#OUTPUT SHOWN IN GUI\n",
    "def viewByBrowser():\n",
    "    #gets browsers and their respective counts from getData() function\n",
    "    browsers,counts=getData('visitor_useragent',1)\n",
    "    \n",
    "    #making a dictionary with browsers and their counts\n",
    "    browserCount={browsers[i]: counts[i] for i in range(len(browsers))}\n",
    "\n",
    "\n",
    "    plt.bar(list(browsers), counts, color='g')\n",
    "    plt.show()"
   ]
  },
  {
   "cell_type": "markdown",
   "id": "6193e326",
   "metadata": {},
   "source": [
    "<h1> Question 4, Top 10 Readers"
   ]
  },
  {
   "cell_type": "code",
   "execution_count": 152,
   "id": "39da85a0",
   "metadata": {},
   "outputs": [],
   "source": [
    "#function to list the top 10 readers of the documents\n",
    "def top_readers():\n",
    "    #gets readers and their respective counts from getData() function\n",
    "    readers, counts = getData('visitor_uuid',0)\n",
    "            \n",
    "    #sorting the counts (pages read) in dscending order\n",
    "    sortedCounts=counts.copy()\n",
    "    sortedCounts.sort(reverse=True)\n",
    "\n",
    "    #extracting highest 10 pages\n",
    "    top10readers=sortedCounts[0:10]\n",
    "\n",
    "    #extracting associated readers (visitor_uuid) of highest 10 pages read\n",
    "    top10ReaderID=[]\n",
    "    for i in range(len(top10readers)):\n",
    "        for j in range(len(counts)):\n",
    "            if top10readers[i]==counts[j]:\n",
    "                top10ReaderID.append(readers[j])\n",
    "            \n",
    "\n",
    "    #in case the (10 + n)th count is equal to 10th count           \n",
    "    if len(top10ReaderID)>10:\n",
    "        top10ReaderID=top10ReaderID[0:10]\n",
    "    \n",
    "\n",
    "    #creating a dictionary of top 10 reader ID's and pages read\n",
    "    top10ReadersDict={top10ReaderID[i]: top10readers[i] for i in range(len(top10readers))}\n",
    "\n",
    "    return top10ReadersDict"
   ]
  },
  {
   "cell_type": "markdown",
   "id": "77866b60",
   "metadata": {},
   "source": [
    "<h1> Question 5a"
   ]
  },
  {
   "cell_type": "code",
   "execution_count": 153,
   "id": "ac52921e",
   "metadata": {},
   "outputs": [],
   "source": [
    "#function to return the list of readers for a document uuid\n",
    "def readers(uid):\n",
    "  str =[]\n",
    "  for i in range(len(data)):\n",
    "    if(data[i].get(\"subject_doc_id\")==uid):\n",
    "     str.append(data[i][\"visitor_uuid\"])\n",
    "  str = list(dict.fromkeys(str)) #removing duplicates\n",
    "  return str"
   ]
  },
  {
   "cell_type": "markdown",
   "id": "e9d0ded9",
   "metadata": {},
   "source": [
    "<h1> Question 5b"
   ]
  },
  {
   "cell_type": "code",
   "execution_count": 154,
   "id": "ff752a37",
   "metadata": {},
   "outputs": [],
   "source": [
    "#function to return the list of documents read by a user using visitor uuid\n",
    "def documents(uid):\n",
    "  str =[]\n",
    "  for i in range(len(data)):\n",
    "    if(data[i].get(\"visitor_uuid\")==uid):\n",
    "      if(data[i].get(\"subject_doc_id\") != None):\n",
    "       str.append(data[i].get(\"subject_doc_id\"))\n",
    "  str = list(dict.fromkeys(str)) #removing duplicates\n",
    "  return str"
   ]
  },
  {
   "cell_type": "markdown",
   "id": "930f78b6",
   "metadata": {},
   "source": [
    "<h1> Question 5c"
   ]
  },
  {
   "cell_type": "code",
   "execution_count": 155,
   "id": "9588ddf6",
   "metadata": {},
   "outputs": [],
   "source": [
    "#function to return the list of documents that the other readers like based on document uuid\n",
    "def also_like(doc_id):\n",
    "    str = readers(doc_id)\n",
    "    doc_list=[]\n",
    "    for i in range(len(str)):\n",
    "        doc_list+=documents(str[i])\n",
    "    return doc_list"
   ]
  },
  {
   "cell_type": "markdown",
   "id": "04f0c6ee",
   "metadata": {},
   "source": [
    "<h1> Question 5c, sorting function"
   ]
  },
  {
   "cell_type": "code",
   "execution_count": 156,
   "id": "2439f093",
   "metadata": {},
   "outputs": [],
   "source": [
    "#function to sort the list of also like based on highest count\n",
    "def sort_list(list,org):\n",
    "    \n",
    "    counts = dict(Counter(list))\n",
    "    counted_list = {key:value for key, value in counts.items() if key != None and key != org}\n",
    "    top=[]\n",
    "    i=0\n",
    "    for key, value in counted_list.items():\n",
    "        if i<10:\n",
    "            top.append(key)\n",
    "            i=i+1\n",
    "        else:\n",
    "            break\n",
    "\n",
    "    return top"
   ]
  },
  {
   "cell_type": "markdown",
   "id": "8b01f8bb",
   "metadata": {},
   "source": [
    "<h1> Question 5d, sorting function\n",
    "    "
   ]
  },
  {
   "cell_type": "code",
   "execution_count": 157,
   "id": "1f11e51f",
   "metadata": {},
   "outputs": [],
   "source": [
    "#function to sort the list of also like based on highest count including the original doc\n",
    "def sort_w_org(list):\n",
    "    counts = dict(Counter(list))\n",
    "    counted_list = {key:value for key, value in counts.items() if key != None}\n",
    "    top10=[]\n",
    "    i=0\n",
    "    for key, value in counted_list.items():\n",
    "        if i<10:\n",
    "            top10.append(key)\n",
    "            i=i+1\n",
    "        else:\n",
    "            break\n",
    "\n",
    "    return top10"
   ]
  },
  {
   "cell_type": "markdown",
   "id": "889ba3e5",
   "metadata": {},
   "source": [
    "<h1> Question 6"
   ]
  },
  {
   "cell_type": "code",
   "execution_count": 158,
   "id": "b099e24b",
   "metadata": {},
   "outputs": [],
   "source": [
    "#function to draw the dot graph for the readers with the also like documents \n",
    "def draw_graph(doc_id):\n",
    "    docIDs = also_like(doc_id)\n",
    "    sorted_l=sort_w_org(docIDs)\n",
    "\n",
    "  \n",
    "    for key in sorted_l:\n",
    "        reader_list=readers(key)\n",
    "        for k in range(len(reader_list)):\n",
    "            G.add_edge(reader_list[k][-4:],key[-4:])\n",
    "\n",
    "    nx_pydot.write_dot(G, 'multig.dot')"
   ]
  },
  {
   "cell_type": "markdown",
   "id": "e3418b28",
   "metadata": {},
   "source": [
    "<h1> Question 7, GUI Designing"
   ]
  },
  {
   "cell_type": "markdown",
   "id": "1a0fc0cc",
   "metadata": {},
   "source": [
    "<h6>function to grab text from text box"
   ]
  },
  {
   "cell_type": "code",
   "execution_count": 159,
   "id": "dbf97859",
   "metadata": {},
   "outputs": [],
   "source": [
    "#function to grab text from text box\n",
    "def take_text():\n",
    "    global entry\n",
    "    string= entry.get()\n",
    "    return string"
   ]
  },
  {
   "cell_type": "markdown",
   "id": "90e60c38",
   "metadata": {},
   "source": [
    "<h6>function that is activated when pressing Graph by Country button. Plots a graph of country views"
   ]
  },
  {
   "cell_type": "code",
   "execution_count": 160,
   "id": "52db901d",
   "metadata": {},
   "outputs": [],
   "source": [
    "#function that is activated when pressing Graph by Country button\n",
    "def countries():\n",
    "    str=take_text()\n",
    "    search(str)"
   ]
  },
  {
   "cell_type": "markdown",
   "id": "adc2cb12",
   "metadata": {},
   "source": [
    "<h6>function that is activated when pressing Graph by Continent button. Plots a graph by continent views "
   ]
  },
  {
   "cell_type": "code",
   "execution_count": 161,
   "id": "5cbe925a",
   "metadata": {},
   "outputs": [],
   "source": [
    "#function that is activated when pressing Graph by Continent button   \n",
    "def cont_com():\n",
    "    str=take_text()\n",
    "    continent(str)"
   ]
  },
  {
   "cell_type": "markdown",
   "id": "0899da0c",
   "metadata": {},
   "source": [
    "<h6> function that is activated when pressing Also Like button. Shows document uuid's which were also read by users\n",
    "    who read the document specified in the textbox."
   ]
  },
  {
   "cell_type": "code",
   "execution_count": 162,
   "id": "b75fc474",
   "metadata": {},
   "outputs": [],
   "source": [
    "#function that is activated when pressing Also Like button  \n",
    "def also_like_com():\n",
    "    str=take_text()\n",
    "    doc_list=also_like(str)\n",
    "    sorted_list = sort_list(doc_list,str)\n",
    "    textbox = Text(win, height=15, width=46)  \n",
    "    textbox.insert(1.0,sorted_list)\n",
    "    textbox.grid(columnspan=4,column=0,row=5)"
   ]
  },
  {
   "cell_type": "markdown",
   "id": "f65a4150",
   "metadata": {},
   "source": [
    "<h6>function that is activated when pressing Top 10 Readers button. Shows the top 10 visitor uuid's of visitors who read the most number of documents, and the number of documents they read."
   ]
  },
  {
   "cell_type": "code",
   "execution_count": 163,
   "id": "e4041f67",
   "metadata": {},
   "outputs": [],
   "source": [
    "#function that is activated when pressing Top 10 Readers button  \n",
    "def top_readers_list():\n",
    "    readers_list= top_readers()\n",
    "    if filename=='sample_tiny.json' or filename=='sample_small.json':\n",
    "        textbox = Text(win, height=15, width=24)\n",
    "    else:\n",
    "        textbox = Text(win, height=15, width=25)\n",
    "    textbox = Text(win, height=15, width=24)  \n",
    "    textbox.insert(1.0,readers_list)\n",
    "    textbox.grid(columnspan=4,column=3,row=5)"
   ]
  },
  {
   "cell_type": "markdown",
   "id": "c54f350d",
   "metadata": {},
   "source": [
    "<h6>function that is activated when pressing Also Like Graph button. Generates an \"also-like\" graph (explained in report) in your computers picture viewer"
   ]
  },
  {
   "cell_type": "code",
   "execution_count": 164,
   "id": "4dffcabd",
   "metadata": {},
   "outputs": [],
   "source": [
    "#function that is activated when pressing Also Like Graph button      \n",
    "def also_like_graph():\n",
    "    str=take_text()\n",
    "    G.clear()\n",
    "    draw_graph(str)\n",
    "\n",
    "    s=Source.from_file('multig.dot')\n",
    "    s.render('multig.gv', format='ps',view=False)\n",
    "    s.render('multig', format='png',view=True)"
   ]
  },
  {
   "cell_type": "markdown",
   "id": "d1ddc003",
   "metadata": {},
   "source": [
    "<h6>Adds a label with text beside the textbox in which user enters document uuid input"
   ]
  },
  {
   "cell_type": "code",
   "execution_count": 165,
   "id": "e70c1900",
   "metadata": {},
   "outputs": [],
   "source": [
    "#Initialize a Label to display the User Input\n",
    "label=Label(win, text=\"Enter Document UUID :\", font=(\"Courier 16 bold\"))\n",
    "label.grid(column=0,row=0)"
   ]
  },
  {
   "cell_type": "markdown",
   "id": "60f50608",
   "metadata": {},
   "source": [
    "<h6>Creation of an entry widget, which is esentially a textbox for user to enter an input"
   ]
  },
  {
   "cell_type": "code",
   "execution_count": 166,
   "id": "3f023d17",
   "metadata": {},
   "outputs": [],
   "source": [
    "#Create an Entry widget to accept User Input\n",
    "entry= Entry(win, width= 60)\n",
    "entry.focus_set()\n",
    "entry.grid(columnspan=4,column=1,row=0)"
   ]
  },
  {
   "cell_type": "markdown",
   "id": "94d753ed",
   "metadata": {},
   "source": [
    "<h6> Setting the positions of the label, textbox and buttons. Uses a grid layout to show tabular format"
   ]
  },
  {
   "cell_type": "code",
   "execution_count": 167,
   "id": "88ae5652",
   "metadata": {},
   "outputs": [
    {
     "data": {
      "image/png": "[encoded data removed]",
      "text/plain": [
       "<Figure size 640x480 with 1 Axes>"
      ]
     },
     "metadata": {},
     "output_type": "display_data"
    },
    {
     "data": {
      "image/png": "[encoded data removed]",
      "text/plain": [
       "<Figure size 640x480 with 1 Axes>"
      ]
     },
     "metadata": {},
     "output_type": "display_data"
    },
    {
     "data": {
      "image/png": "[encoded data removed]",
      "text/plain": [
       "<Figure size 640x480 with 1 Axes>"
      ]
     },
     "metadata": {},
     "output_type": "display_data"
    }
   ],
   "source": [
    "#Creating Buttons for different functionalities\n",
    "ttk.Button(win, text= \"Graph by Country\",width= 20, command= countries).grid(column=0,row=3)\n",
    "ttk.Button(win, text= \"Graph by Continent\",width= 20, command= cont_com).grid(column=1,row=3)\n",
    "ttk.Button(win, text= \"View By Browser\",width= 20, command= viewByBrowser).grid(column=2,row=3)\n",
    "ttk.Button(win, text= \"Also Like\",width= 20, command= also_like_com).grid(column=0,row=4)\n",
    "ttk.Button(win, text= \"Also Like Graph\",width= 20, command= also_like_graph).grid(column=1,row=4)\n",
    "ttk.Button(win, text= \"Top 10 readers\",width= 20, command= top_readers_list).grid(column=2,row=4)\n",
    "canvas = Canvas(win, height=200)\n",
    "canvas.grid(columnspan=7)\n",
    "\n",
    "\n",
    "win.mainloop()\n"
   ]
  },
  {
   "cell_type": "code",
   "execution_count": null,
   "id": "c67dd1b1",
   "metadata": {},
   "outputs": [],
   "source": []
  },
  {
   "cell_type": "code",
   "execution_count": null,
   "id": "1349ce53",
   "metadata": {},
   "outputs": [],
   "source": []
  }
 ],
 "metadata": {
  "kernelspec": {
   "display_name": "Python 3 (ipykernel)",
   "language": "python",
   "name": "python3"
  },
  "language_info": {
   "codemirror_mode": {
    "name": "ipython",
    "version": 3
   },
   "file_extension": ".py",
   "mimetype": "text/x-python",
   "name": "python",
   "nbconvert_exporter": "python",
   "pygments_lexer": "ipython3",
   "version": "3.8.13"
  }
 },
 "nbformat": 4,
 "nbformat_minor": 5
}
